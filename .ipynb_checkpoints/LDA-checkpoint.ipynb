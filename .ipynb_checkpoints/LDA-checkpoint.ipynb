{
 "cells": [
  {
   "cell_type": "markdown",
   "id": "b6be8cce",
   "metadata": {},
   "source": [
    "# LDA"
   ]
  },
  {
   "cell_type": "code",
   "execution_count": 1,
   "id": "22360c86",
   "metadata": {},
   "outputs": [],
   "source": [
    "import pandas as pd\n",
    "import numpy as np\n",
    "\n",
    "import matplotlib.pyplot as plt\n",
    "plt.style.use(\"ggplot\")"
   ]
  },
  {
   "cell_type": "markdown",
   "id": "e4ecd15c",
   "metadata": {},
   "source": [
    "## Running example"
   ]
  },
  {
   "cell_type": "code",
   "execution_count": 2,
   "id": "3f0ea384",
   "metadata": {},
   "outputs": [
    {
     "data": {
      "image/png": "[encoded data removed]",
      "text/plain": [
       "<Figure size 864x288 with 1 Axes>"
      ]
     },
     "metadata": {},
     "output_type": "display_data"
    }
   ],
   "source": [
    "seed = np.random.seed(0)\n",
    "\n",
    "# constants\n",
    "K = 3 # np.random.randint(2,9)\n",
    "D=20\n",
    "V=35\n",
    "\n",
    "alpha = [1]*K # uniform \n",
    "theta = pd.DataFrame(np.random.dirichlet(alpha=alpha, size=D))\n",
    "theta.plot(\n",
    "    kind='bar', \n",
    "    rot=0, \n",
    "    stacked=True,\n",
    "    figsize=(12,4)\n",
    ")\n",
    "plt.xticks(np.arange(D), [f\"$\\\\theta_{{{i}}}$\" for i in np.arange(D)+1])\n",
    "plt.legend().remove()\n",
    "plt.margins(0,0)\n",
    "plt.tight_layout()\n",
    "# plt.savefig(\"img/random_topic_probs.pdf\");"
   ]
  },
  {
   "cell_type": "code",
   "execution_count": null,
   "id": "f9b7053b",
   "metadata": {},
   "outputs": [],
   "source": []
  }
 ],
 "metadata": {
  "kernelspec": {
   "display_name": "Python 3",
   "language": "python",
   "name": "python3"
  },
  "language_info": {
   "codemirror_mode": {
    "name": "ipython",
    "version": 3
   },
   "file_extension": ".py",
   "mimetype": "text/x-python",
   "name": "python",
   "nbconvert_exporter": "python",
   "pygments_lexer": "ipython3",
   "version": "3.8.6"
  }
 },
 "nbformat": 4,
 "nbformat_minor": 5
}
